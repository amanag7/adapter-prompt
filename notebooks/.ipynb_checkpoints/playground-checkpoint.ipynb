{
 "cells": [
  {
   "cell_type": "code",
   "execution_count": 2,
   "id": "9c2a6211",
   "metadata": {},
   "outputs": [],
   "source": [
    "import torch\n",
    "import time\n",
    "from torch.utils.data import DataLoader\n",
    "from torch import nn\n",
    "from transformers import AdamW, WEIGHTS_NAME, get_linear_schedule_with_warmup\n",
    "import csv\n",
    "import numpy as np\n",
    "import os\n",
    "import logging\n",
    "# from fp16 import FP16_Module, FP16_Optimizer\n",
    "# from parallel import DataParallelModel, DataParallelCriterion\n",
    "# from collections import OrderedDict\n",
    "# from utils import *\n",
    "# from settings import args, TASK_DICT, init_logging, MODEL_CONFIG, MODEL_CLASS, SPECIAL_TOKENS, CONFIG_CLASS\n",
    "# from settings import TOKENIZER, SPECIAL_TOKEN_IDS, FILL_VAL, SAVE_NAME, FINAL_SAVE_NAME, TOKENS_WEIGHT, CONFIG_NAME\n",
    "# from scheduler import AnnealingLR\n",
    "# from regularizers import REG_TYPES, REG_TYPE_KEYS, Weight_Regularized_AdamW, Weight_Regularized_SGD\n",
    "from torch.nn import CrossEntropyLoss\n",
    "from transformers.adapters import ConfigUnion, AdapterConfig, PrefixTuningConfig\n",
    "logger = logging.getLogger(__name__)"
   ]
  },
  {
   "cell_type": "code",
   "execution_count": null,
   "id": "ef991697",
   "metadata": {},
   "outputs": [],
   "source": []
  }
 ],
 "metadata": {
  "kernelspec": {
   "display_name": "Python 3 (ipykernel)",
   "language": "python",
   "name": "python3"
  },
  "language_info": {
   "codemirror_mode": {
    "name": "ipython",
    "version": 3
   },
   "file_extension": ".py",
   "mimetype": "text/x-python",
   "name": "python",
   "nbconvert_exporter": "python",
   "pygments_lexer": "ipython3",
   "version": "3.8.0"
  }
 },
 "nbformat": 4,
 "nbformat_minor": 5
}
